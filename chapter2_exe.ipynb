{
  "nbformat": 4,
  "nbformat_minor": 0,
  "metadata": {
    "colab": {
      "provenance": [],
      "authorship_tag": "ABX9TyOFW8pPxcdzgvz8fE3lGCPm",
      "include_colab_link": true
    },
    "kernelspec": {
      "name": "python3",
      "display_name": "Python 3"
    },
    "language_info": {
      "name": "python"
    }
  },
  "cells": [
    {
      "cell_type": "markdown",
      "metadata": {
        "id": "view-in-github",
        "colab_type": "text"
      },
      "source": [
        "<a href=\"https://colab.research.google.com/github/GijooHong/22_05_python_Ch2/blob/main/chapter2_exe.ipynb\" target=\"_parent\"><img src=\"https://colab.research.google.com/assets/colab-badge.svg\" alt=\"Open In Colab\"/></a>"
      ]
    },
    {
      "cell_type": "code",
      "execution_count": null,
      "metadata": {
        "id": "ugmGyujgNR-P"
      },
      "outputs": [],
      "source": []
    },
    {
      "cell_type": "markdown",
      "source": [
        "사용자한테 이름과 나이를 입력하게 한다 사용자가 100살이 되는 연도를 화면에 출력 하는 프로그램을 작성하라 "
      ],
      "metadata": {
        "id": "o2_Btz9ZPixZ"
      }
    },
    {
      "cell_type": "code",
      "source": [
        "name =input(\"이름을 입력하시오.:\") #변수 name에 input함수를 사용하여 사용자에게 입력받음\n",
        "age = int(input(\"나이를 입력하시오.:\")) #변수 age에 int(정수형선언)함수로 사용자에게 나이를 입력받음\n",
        "year = 2022 - age + 100 #변수 year에 현재 연도 - 변수(age)+100\n",
        "print(name + \"씨는\" + str(year) + \"년에 100살입니다.\")"
      ],
      "metadata": {
        "colab": {
          "base_uri": "https://localhost:8080/"
        },
        "id": "j_By90GMP3ti",
        "outputId": "71df3bf0-396c-4fb1-899a-78634b589812"
      },
      "execution_count": 1,
      "outputs": [
        {
          "output_type": "stream",
          "name": "stdout",
          "text": [
            "이름을 입력하시오.:홍기주\n",
            "나이를 입력하시오.:25\n",
            "홍기주씨는2097년에 100살입니다.\n"
          ]
        }
      ]
    },
    {
      "cell_type": "markdown",
      "source": [
        "사용자로부터 3개의 숫자를 받아서 평균을 계산하라."
      ],
      "metadata": {
        "id": "wghUEd5wTpNm"
      }
    },
    {
      "cell_type": "code",
      "source": [
        "n1 = int(input(\"첫 번째 값을 입력하시오.:\"))\n",
        "n2 = int(input(\"두 번째 값을 입력하시오.:\"))\n",
        "n3 = int(input(\"세 번째 값을 입력하시오.:\"))\n",
        "aver = (n1 + n2 + n3) / 3\n",
        "sum= n1 + n2 + n3\n",
        "print(n1, n2, n3, \"합은\", str(sum), \"이고\", \"의 평균은\", aver, \"입니다.\")\n"
      ],
      "metadata": {
        "colab": {
          "base_uri": "https://localhost:8080/"
        },
        "id": "MOYWACKcUCr-",
        "outputId": "0a82a4a5-c7c1-473b-f353-4817b0b62c44"
      },
      "execution_count": 5,
      "outputs": [
        {
          "output_type": "stream",
          "name": "stdout",
          "text": [
            "첫 번째 값을 입력하시오.:10\n",
            "두 번째 값을 입력하시오.:20\n",
            "세 번째 값을 입력하시오.:30\n",
            "10 20 30 합은 60 이고 의 평균은 20.0 입니다.\n"
          ]
        }
      ]
    },
    {
      "cell_type": "markdown",
      "source": [
        "사용자로부터 원의 반지름을 입력받아서 면적을 구하시오."
      ],
      "metadata": {
        "id": "iij0fpKXVwBe"
      }
    },
    {
      "cell_type": "code",
      "source": [
        "radius = int(input(\"반지름을 입력하시오.:\"))\n",
        "area = 3.141592 * radius * radius\n",
        "print(\"반지름이\", radius,\"인\", \"원의 넓이는 =\", area, \"입니다.\")"
      ],
      "metadata": {
        "colab": {
          "base_uri": "https://localhost:8080/"
        },
        "id": "M86IEcH-V9wz",
        "outputId": "ddb1f1a3-03ee-4836-f130-1e09322fae0f"
      },
      "execution_count": 10,
      "outputs": [
        {
          "output_type": "stream",
          "name": "stdout",
          "text": [
            "반지름을 입력하시오.:10\n",
            "반지름이 10 인 원의 넓이는 = 314.1592 입니다.\n"
          ]
        }
      ]
    }
  ]
}